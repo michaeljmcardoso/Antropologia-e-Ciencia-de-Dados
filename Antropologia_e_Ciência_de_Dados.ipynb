{
  "nbformat": 4,
  "nbformat_minor": 0,
  "metadata": {
    "colab": {
      "provenance": [],
      "authorship_tag": "ABX9TyPT8g4PUfSQfQf4O5yKkDYj",
      "include_colab_link": true
    },
    "kernelspec": {
      "name": "python3",
      "display_name": "Python 3"
    },
    "language_info": {
      "name": "python"
    }
  },
  "cells": [
    {
      "cell_type": "markdown",
      "metadata": {
        "id": "view-in-github",
        "colab_type": "text"
      },
      "source": [
        "<a href=\"https://colab.research.google.com/github/michaeljmcardoso/Antropologia-e-Ciencia-de-Dados/blob/main/Antropologia_e_Ci%C3%AAncia_de_Dados.ipynb\" target=\"_parent\"><img src=\"https://colab.research.google.com/assets/colab-badge.svg\" alt=\"Open In Colab\"/></a>"
      ]
    },
    {
      "cell_type": "markdown",
      "source": [
        "---\n",
        "\n",
        "# **Interfaces entre Antropologia e Ciência de Dados**\n",
        "\n",
        "**[*by Michael J M Cardoso*](https://www.linkedin.com/in/michael-cardoso-84a9a0b2/)**\n",
        "\n",
        "<center><img alt=\"\" width=\"55%\" src=\"https://estudoalternativo.files.wordpress.com/2016/11/antropologia-1.jpg\"></center>\n",
        "\n",
        "---\n",
        "\n",
        "## **Introdução**\n",
        "\n",
        "Neste artigo, partindo de minha experiência profissional no campo da pesquisa antropológica, proponho breve reflexão sobre possíveis aproximações entre a Antropologia e a Ciência de Dados, duas áreas que a princípio podem parecer bem distantes, mas que compartilham alguns pontos em comum.\n",
        "\n",
        "---\n",
        "\n",
        "Sou Antropólogo, com Graduação e Pós-graduação em Ciências Sociais. Estudante de Ciências de Dados. Trabalho há dez anos no serviço público como Antropólogo, especialista em Regularização Fundiária de Territórios Quilombolas no Instituto Nacional de Colonização e Reforma Agrária-INCRA.\n",
        "\n",
        "Basicamente, trabalho com Pesquisa de Campo Etnográfico, que envolve a observação direta, a partir da convivência com o grupo em estudo por determinados períodos de tempo, com grande ênfase no contexto pesquisado. Concomitante ao emprego de práticas como levantamento e análise de dados qualitativos e quantitativos, elaboração e aplicação de questionários (survey) e entrevistas, produção de etnomapas, elaboração de genealogias enfim, coleta-se uma ampla variedade de dados para compor relatórios antropológicos no âmbito de processos administrativos de regularização fundiária.\n",
        "\n",
        "Como peça técnica fundamental desses processos, o relatório antropológico tem como objetivo a caracterização e identificação do território ocupado pelos quilombolas, concluindo com uma proposta de território coletivo a ser posteriormente reconhecido pelo Estado, sendo orientado e fundamentado em amplo conjunto de informações coletadas ao longo dos estudos e trabalhos de campo. Tornando-se um importante produto que orientará a tomada de decisão e os rumos no tocante à elaboração das demais peças técnicas integrantes do processo.\n",
        "\n",
        "Neste sentido, percebo uma interface da Antropologia com a Ciência de Dados, ao orientar a tomada de decisão nos processos também com base em dados. Com o destaque de que na pesquisa etnográfica esses dados são comumente catalogados em primeira mão pelo pesquisador-antropólogo, que trabalha desde o levantamento bibliográfico, a concepção do questionário e/ou do roteiro de entrevistas, passando pela coleta, sistematização e análise dos dados para composição dos relatórios.\n",
        "\n",
        "Outrossim, a antropologia e a ciência de dados podem parecer disciplinas muito diferentes, porém têm mais em comum do que se imagina. Ambos os campos estão preocupados com a compreensão do comportamento e padrões humanos, e ambos dependem fortemente da coleta e análise de dados.\n",
        "\n",
        "Antropologia é o estudo das culturas, sociedades e comportamentos humanos. Os antropólogos coletam dados por meio de vários métodos, como etnografia, observação participante e pesquisas. Esses dados são então analisados ​​para entender padrões e tendências no comportamento humano, bem como para identificar diferenças e semelhanças culturais.\n",
        "\n",
        "A ciência de dados, por outro lado, é um campo que usa métodos estatísticos e computacionais para extrair informações dos dados. Os cientistas de dados coletam e analisam grandes conjuntos de dados, geralmente usando algoritmos de aprendizado de máquina, para identificar padrões e fazer previsões.\n",
        "\n",
        "Apesar de suas diferenças, a antropologia e a ciência de dados compartilham muitos pontos em comum. Ambos os campos dependem fortemente da coleta e análise de dados, e ambos visam entender o comportamento e os padrões humanos. Além disso, ambos os campos podem se beneficiar do uso de novas tecnologias e metodologias, como aprendizado de máquina e análise de big data.\n",
        "\n",
        "Outra área em que a antropologia e a ciência de dados se cruzam é ​​o estudo da cultura digital. Com o uso crescente da tecnologia e da internet, os antropólogos começaram a estudar as comunidades online e as formas pelas quais as pessoas interagem em espaços digitais. Os cientistas de dados, por outro lado, começaram a usar dados digitais, como dados de mídia social, para entender o comportamento humano online.\n",
        "\n",
        "Outro exemplo de interseção é no campo da UX Researcher em que é preciso colher informações para descobrir e entender do que o usuário necessita e quais as suas expectativas em um site ou aplicativo. Aqui, os antropólogos podem trabalhar ao lado de cientistas de dados e designers para desenvolver tecnologia centrada no usuário que seja funcional e utilizável por todos.\n",
        "\n",
        "---\n",
        "\n",
        "## **Conclusão**\n",
        "\n",
        "Portanto, a antropologia e a ciência de dados podem parecer campos díspares, mas compartilham um objetivo comum de entender o comportamento e os padrões humanos. Ao combinar suas perspectivas e metodologias únicas, esses dois campos podem trabalhar juntos para obter uma compreensão muito mais abrangente do mundo ao nosso redor.\n",
        "\n",
        "* [LinkedIn](https://www.linkedin.com/in/michael-cardoso-84a9a0b2/)\n",
        "\n",
        "* [GitHub](https://github.com/michaeljmcardoso/Portfolio-de-Projetos_DataScience)\n",
        "\n",
        "* [Colab](https://colab.research.google.com/github/michaeljmcardoso/Antropologia-e-Ciencia-de-Dados/blob/main/Antropologia_e_Ci%C3%AAncia_de_Dados.ipynb)"
      ],
      "metadata": {
        "id": "ZQLKh-jop-8p"
      }
    },
    {
      "cell_type": "markdown",
      "source": [
        "## **Recomendações bibliográficas**\n",
        "\n",
        "**Sobre Antropologia e Etnografia:**\n",
        "\n",
        "* A Experiência Etnográfica: Antropologia e literatura no séc. XX (James Clifford)\n",
        "* A Interpretação das Culturas (Clifford Geertz)\n",
        "* Aprender Antropologia (François Laplantine)\n",
        "\n",
        "**Sobre Ciência de Dados e Python:**\n",
        "\n",
        "* Data Science do Zero: Noções Fundamentais com Python (Joel Grus)\n",
        "* Data Science para Negócios: O que Você Precisa Saber Sobre Mineração de Dados e Pensamento Analítico de Dados (Foster Provost & Tom Fawcet)\n",
        "* Storytelling com Dados: um Guia sobre Visualização de Dados para Profissionais de negócios (Cole Nussbaumer Knaflic)"
      ],
      "metadata": {
        "id": "_qbPVOmA1dT5"
      }
    }
  ]
}